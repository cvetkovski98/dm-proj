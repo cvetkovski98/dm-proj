{
 "cells": [
  {
   "cell_type": "code",
   "execution_count": 5,
   "metadata": {
    "collapsed": true,
    "pycharm": {
     "is_executing": false
    }
   },
   "outputs": [],
   "source": [
    "import  numpy as np\n",
    "import pandas as pd\n",
    "from spotipy import Spotify\n",
    "from spotipy.oauth2 import SpotifyClientCredentials\n",
    "from spotipy.util import prompt_for_user_token\n",
    "chart=pd.read_csv('data_uk_all.csv')"
   ]
  },
  {
   "cell_type": "code",
   "execution_count": 8,
   "outputs": [],
   "source": [
    "user_token=prompt_for_user_token('Peckobree',scope=None,client_id=\"decb826f90314650aa196f1f1ec4fc6a\",\n",
    "                      client_secret=\"1fd49680b0b34e7a8920338580e8c56a\",redirect_uri=\"http://127.0.0.1:9090\")\n",
    "spotify=Spotify(auth=user_token)"
   ],
   "metadata": {
    "collapsed": false,
    "pycharm": {
     "name": "#%%\n",
     "is_executing": false
    }
   }
  },
  {
   "cell_type": "code",
   "execution_count": 14,
   "outputs": [
    {
     "name": "stdout",
     "text": [
      "NORMAN F**KING ROCKWELL\n",
      "NORMAN F**KING ROCKWELL\n",
      "693\n"
     ],
     "output_type": "stream"
    }
   ],
   "source": [
    "#TUKA SE ZIMAAT INFORMACII \n",
    "tracks_dict={}\n",
    "tracks=[]\n",
    "for artist,title in zip(chart['artist'],chart['title']):\n",
    "    tracks.append({'artist':artist,'title':title})\n",
    "for track in tracks:\n",
    "    artist=track['artist']\n",
    "    title=track['title']\n",
    "    res=spotify.search(title)\n",
    "    # print(track)\n",
    "    novi=[]\n",
    "    for track_found in res['tracks']['items']:\n",
    "        if(str(track_found['artists'][0]['name']).lower()==artist.lower()):      \n",
    "            novi.append(track_found)\n",
    "    if(len(novi)==0 and len(res['tracks']['items'])>0):\n",
    "        # print(res['tracks']['items'][0]['id'])\n",
    "        track['id']=res['tracks']['items'][0]['id']\n",
    "    elif(len(novi)>0):\n",
    "        # print(novi[0]['id'])\n",
    "        track['id']=novi[0]['id']\n",
    "    else:\n",
    "        print(title)\n",
    "        continue\n",
    "    tracks_dict[track['id']]=track\n",
    "print(len(tracks_dict))\n",
    "tracks_features={}\n",
    "for id in tracks_dict:\n",
    "    feats=spotify.audio_features([id])\n",
    "    tracks_features[id]=feats[0]\n",
    "    tracks_features[id]['title']=tracks_dict[id]['title']\n",
    "    tracks_features[id]['artist']=tracks_dict[id]['artist']\n",
    "tracks_features_frame=pd.DataFrame(tracks_features.values())\n",
    "tracks_features_frame.to_csv(\"spotify_tracks.csv\")\n",
    "# tracks_frame=pd.DataFrame(tracks_dict.values())\n",
    "# tracks_frame.to_csv(\"spotify_tracks.csv\")"
   ],
   "metadata": {
    "collapsed": false,
    "pycharm": {
     "name": "#%%\n",
     "is_executing": false
    }
   }
  },
  {
   "cell_type": "code",
   "execution_count": 27,
   "outputs": [],
   "source": [
    "res=spotify.search(\"marsupilami flow\")"
   ],
   "metadata": {
    "collapsed": false,
    "pycharm": {
     "name": "#%%\n",
     "is_executing": false
    }
   }
  },
  {
   "cell_type": "code",
   "execution_count": 28,
   "outputs": [
    {
     "data": {
      "text/plain": "7"
     },
     "metadata": {},
     "output_type": "execute_result",
     "execution_count": 28
    }
   ],
   "source": [
    "len(res['tracks'])\n",
    "\n",
    "\n"
   ],
   "metadata": {
    "collapsed": false,
    "pycharm": {
     "name": "#%%\n",
     "is_executing": false
    }
   }
  }
 ],
 "metadata": {
  "kernelspec": {
   "display_name": "Python 3",
   "language": "python",
   "name": "python3"
  },
  "language_info": {
   "codemirror_mode": {
    "name": "ipython",
    "version": 2
   },
   "file_extension": ".py",
   "mimetype": "text/x-python",
   "name": "python",
   "nbconvert_exporter": "python",
   "pygments_lexer": "ipython2",
   "version": "2.7.6"
  },
  "pycharm": {
   "stem_cell": {
    "cell_type": "raw",
    "source": [],
    "metadata": {
     "collapsed": false
    }
   }
  }
 },
 "nbformat": 4,
 "nbformat_minor": 0
}